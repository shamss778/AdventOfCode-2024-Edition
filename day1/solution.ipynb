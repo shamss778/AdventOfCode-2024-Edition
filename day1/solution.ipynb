{
 "cells": [
  {
   "cell_type": "code",
   "execution_count": 19,
   "id": "00ec94a2",
   "metadata": {},
   "outputs": [],
   "source": [
    "import pandas as pd\n",
    "from collections import Counter\n",
    "\n",
    "path = 'input.txt'\n",
    "df = pd.read_csv(path, header=None, sep=r'\\s+', engine='python')\n"
   ]
  },
  {
   "cell_type": "code",
   "execution_count": 20,
   "id": "86b981ea",
   "metadata": {},
   "outputs": [],
   "source": [
    "list1 = sorted(df[0].tolist())\n",
    "list2 = sorted(df[1].tolist())\n",
    "\n",
    "diff = list()\n",
    "diff = [abs(x-y) for x,y in zip(list1, list2)]"
   ]
  },
  {
   "cell_type": "code",
   "execution_count": 21,
   "id": "5759e17d",
   "metadata": {},
   "outputs": [
    {
     "name": "stdout",
     "output_type": "stream",
     "text": [
      "2344935\n"
     ]
    }
   ],
   "source": [
    "print(sum(diff))"
   ]
  },
  {
   "cell_type": "code",
   "execution_count": 22,
   "id": "9a9fe966",
   "metadata": {},
   "outputs": [
    {
     "name": "stdout",
     "output_type": "stream",
     "text": [
      "27647262\n"
     ]
    }
   ],
   "source": [
    "result = 0\n",
    "d_list2 = Counter(list2)\n",
    "for i in range(len(list1)):\n",
    "    if list1[i] in d_list2.keys():\n",
    "        result = result + d_list2.get(list1[i])*list1[i]\n",
    "print(result)"
   ]
  }
 ],
 "metadata": {
  "kernelspec": {
   "display_name": "Python 3",
   "language": "python",
   "name": "python3"
  },
  "language_info": {
   "codemirror_mode": {
    "name": "ipython",
    "version": 3
   },
   "file_extension": ".py",
   "mimetype": "text/x-python",
   "name": "python",
   "nbconvert_exporter": "python",
   "pygments_lexer": "ipython3",
   "version": "3.13.7"
  }
 },
 "nbformat": 4,
 "nbformat_minor": 5
}
