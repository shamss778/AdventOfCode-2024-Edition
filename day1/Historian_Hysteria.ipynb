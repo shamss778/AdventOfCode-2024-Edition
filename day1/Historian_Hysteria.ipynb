{
 "cells": [
  {
   "cell_type": "code",
   "execution_count": null,
   "id": "28e667d3",
   "metadata": {},
   "outputs": [],
   "source": [
    "import pandas as pd"
   ]
  },
  {
   "cell_type": "code",
   "execution_count": 42,
   "id": "4aa89113",
   "metadata": {},
   "outputs": [
    {
     "name": "stderr",
     "output_type": "stream",
     "text": [
      "C:\\Users\\asus\\AppData\\Local\\Temp\\ipykernel_6380\\3215056651.py:4: ParserWarning: Falling back to the 'python' engine because the 'c' engine does not support regex separators (separators > 1 char and different from '\\s+' are interpreted as regex); you can avoid this warning by specifying engine='python'.\n",
      "  df = pd.read_csv(file_path,header=None, sep='   ')\n"
     ]
    }
   ],
   "source": [
    "# Load input\n",
    "file_path = 'input.txt'\n",
    "# Seperator is three spaces\n",
    "df = pd.read_csv(file_path,header=None, sep='   ')\n",
    "df.rename(columns={0:'list1',1:'list2'}, inplace=True)\n"
   ]
  },
  {
   "cell_type": "code",
   "execution_count": 43,
   "id": "a9505aff",
   "metadata": {},
   "outputs": [
    {
     "name": "stdout",
     "output_type": "stream",
     "text": [
      "   list1  list2\n",
      "0  80421  40193\n",
      "1  69841  31045\n",
      "2  47850  64065\n",
      "3  63141  52072\n",
      "4  32908  83033\n"
     ]
    }
   ],
   "source": [
    "print(df.head())  # Prints the first few rows of the DataFrame\n"
   ]
  },
  {
   "cell_type": "code",
   "execution_count": 44,
   "id": "7f459f25",
   "metadata": {},
   "outputs": [
    {
     "data": {
      "application/vnd.microsoft.datawrangler.viewer.v0+json": {
       "columns": [
        {
         "name": "index",
         "rawType": "int64",
         "type": "integer"
        },
        {
         "name": "list1",
         "rawType": "int64",
         "type": "integer"
        },
        {
         "name": "list2",
         "rawType": "int64",
         "type": "integer"
        }
       ],
       "ref": "9981b865-6fb8-4b16-a8cc-06b3fd3c6d90",
       "rows": [
        [
         "166",
         "10282",
         "43806"
        ],
        [
         "943",
         "10365",
         "50396"
        ],
        [
         "335",
         "10618",
         "32838"
        ],
        [
         "885",
         "10696",
         "57789"
        ],
        [
         "824",
         "10887",
         "14000"
        ],
        [
         "435",
         "10895",
         "84439"
        ],
        [
         "927",
         "10935",
         "96112"
        ],
        [
         "833",
         "11018",
         "17864"
        ],
        [
         "453",
         "11144",
         "23375"
        ],
        [
         "540",
         "11220",
         "93712"
        ],
        [
         "640",
         "11483",
         "15774"
        ],
        [
         "475",
         "11529",
         "58265"
        ],
        [
         "456",
         "11681",
         "32334"
        ],
        [
         "298",
         "11713",
         "96112"
        ],
        [
         "376",
         "11896",
         "75807"
        ],
        [
         "695",
         "12007",
         "11220"
        ],
        [
         "967",
         "12194",
         "83762"
        ],
        [
         "758",
         "12355",
         "95783"
        ],
        [
         "691",
         "12401",
         "11681"
        ],
        [
         "283",
         "12441",
         "41367"
        ],
        [
         "343",
         "12475",
         "81946"
        ],
        [
         "474",
         "12488",
         "62200"
        ],
        [
         "911",
         "12526",
         "51125"
        ],
        [
         "648",
         "12762",
         "62900"
        ],
        [
         "316",
         "12969",
         "50227"
        ],
        [
         "339",
         "12975",
         "56728"
        ],
        [
         "610",
         "12989",
         "55204"
        ],
        [
         "187",
         "13052",
         "79090"
        ],
        [
         "149",
         "13145",
         "72473"
        ],
        [
         "752",
         "13206",
         "92486"
        ],
        [
         "10",
         "13228",
         "50396"
        ],
        [
         "898",
         "13487",
         "66385"
        ],
        [
         "937",
         "13576",
         "86923"
        ],
        [
         "341",
         "13610",
         "68591"
        ],
        [
         "932",
         "13709",
         "28343"
        ],
        [
         "599",
         "13743",
         "10104"
        ],
        [
         "917",
         "13873",
         "78824"
        ],
        [
         "137",
         "13991",
         "40193"
        ],
        [
         "428",
         "14034",
         "96112"
        ],
        [
         "174",
         "14058",
         "83884"
        ],
        [
         "712",
         "14176",
         "17223"
        ],
        [
         "644",
         "14250",
         "93650"
        ],
        [
         "697",
         "14269",
         "33941"
        ],
        [
         "913",
         "14489",
         "17864"
        ],
        [
         "592",
         "14541",
         "55730"
        ],
        [
         "860",
         "14544",
         "27666"
        ],
        [
         "329",
         "14575",
         "10840"
        ],
        [
         "430",
         "14649",
         "26145"
        ],
        [
         "828",
         "14724",
         "10521"
        ],
        [
         "733",
         "14792",
         "81993"
        ]
       ],
       "shape": {
        "columns": 2,
        "rows": 1000
       }
      },
      "text/html": [
       "<div>\n",
       "<style scoped>\n",
       "    .dataframe tbody tr th:only-of-type {\n",
       "        vertical-align: middle;\n",
       "    }\n",
       "\n",
       "    .dataframe tbody tr th {\n",
       "        vertical-align: top;\n",
       "    }\n",
       "\n",
       "    .dataframe thead th {\n",
       "        text-align: right;\n",
       "    }\n",
       "</style>\n",
       "<table border=\"1\" class=\"dataframe\">\n",
       "  <thead>\n",
       "    <tr style=\"text-align: right;\">\n",
       "      <th></th>\n",
       "      <th>list1</th>\n",
       "      <th>list2</th>\n",
       "    </tr>\n",
       "  </thead>\n",
       "  <tbody>\n",
       "    <tr>\n",
       "      <th>166</th>\n",
       "      <td>10282</td>\n",
       "      <td>43806</td>\n",
       "    </tr>\n",
       "    <tr>\n",
       "      <th>943</th>\n",
       "      <td>10365</td>\n",
       "      <td>50396</td>\n",
       "    </tr>\n",
       "    <tr>\n",
       "      <th>335</th>\n",
       "      <td>10618</td>\n",
       "      <td>32838</td>\n",
       "    </tr>\n",
       "    <tr>\n",
       "      <th>885</th>\n",
       "      <td>10696</td>\n",
       "      <td>57789</td>\n",
       "    </tr>\n",
       "    <tr>\n",
       "      <th>824</th>\n",
       "      <td>10887</td>\n",
       "      <td>14000</td>\n",
       "    </tr>\n",
       "    <tr>\n",
       "      <th>...</th>\n",
       "      <td>...</td>\n",
       "      <td>...</td>\n",
       "    </tr>\n",
       "    <tr>\n",
       "      <th>139</th>\n",
       "      <td>99285</td>\n",
       "      <td>16217</td>\n",
       "    </tr>\n",
       "    <tr>\n",
       "      <th>743</th>\n",
       "      <td>99552</td>\n",
       "      <td>33828</td>\n",
       "    </tr>\n",
       "    <tr>\n",
       "      <th>220</th>\n",
       "      <td>99604</td>\n",
       "      <td>28343</td>\n",
       "    </tr>\n",
       "    <tr>\n",
       "      <th>172</th>\n",
       "      <td>99643</td>\n",
       "      <td>52441</td>\n",
       "    </tr>\n",
       "    <tr>\n",
       "      <th>161</th>\n",
       "      <td>99775</td>\n",
       "      <td>96112</td>\n",
       "    </tr>\n",
       "  </tbody>\n",
       "</table>\n",
       "<p>1000 rows × 2 columns</p>\n",
       "</div>"
      ],
      "text/plain": [
       "     list1  list2\n",
       "166  10282  43806\n",
       "943  10365  50396\n",
       "335  10618  32838\n",
       "885  10696  57789\n",
       "824  10887  14000\n",
       "..     ...    ...\n",
       "139  99285  16217\n",
       "743  99552  33828\n",
       "220  99604  28343\n",
       "172  99643  52441\n",
       "161  99775  96112\n",
       "\n",
       "[1000 rows x 2 columns]"
      ]
     },
     "execution_count": 44,
     "metadata": {},
     "output_type": "execute_result"
    }
   ],
   "source": [
    "df.sort_values('list1', ascending=True)"
   ]
  },
  {
   "cell_type": "code",
   "execution_count": 45,
   "id": "4fed0651",
   "metadata": {},
   "outputs": [
    {
     "data": {
      "application/vnd.microsoft.datawrangler.viewer.v0+json": {
       "columns": [
        {
         "name": "index",
         "rawType": "int64",
         "type": "integer"
        },
        {
         "name": "list1",
         "rawType": "int64",
         "type": "integer"
        },
        {
         "name": "list2",
         "rawType": "int64",
         "type": "integer"
        }
       ],
       "ref": "9944640a-4678-4719-aa32-17dd258bf3ef",
       "rows": [
        [
         "599",
         "13743",
         "10104"
        ],
        [
         "679",
         "67936",
         "10228"
        ],
        [
         "686",
         "71897",
         "10363"
        ],
        [
         "828",
         "14724",
         "10521"
        ],
        [
         "509",
         "97698",
         "10803"
        ],
        [
         "329",
         "14575",
         "10840"
        ],
        [
         "293",
         "26894",
         "10883"
        ],
        [
         "923",
         "57313",
         "11001"
        ],
        [
         "894",
         "87826",
         "11069"
        ],
        [
         "300",
         "91347",
         "11220"
        ],
        [
         "116",
         "86007",
         "11220"
        ],
        [
         "778",
         "16149",
         "11220"
        ],
        [
         "929",
         "36588",
         "11220"
        ],
        [
         "695",
         "12007",
         "11220"
        ],
        [
         "813",
         "85968",
         "11220"
        ],
        [
         "384",
         "79090",
         "11220"
        ],
        [
         "366",
         "98626",
         "11220"
        ],
        [
         "131",
         "55060",
         "11220"
        ],
        [
         "483",
         "68139",
         "11220"
        ],
        [
         "673",
         "17976",
         "11220"
        ],
        [
         "844",
         "96184",
         "11220"
        ],
        [
         "24",
         "66315",
         "11220"
        ],
        [
         "452",
         "69698",
         "11220"
        ],
        [
         "365",
         "58208",
         "11220"
        ],
        [
         "63",
         "93459",
         "11220"
        ],
        [
         "37",
         "23572",
         "11220"
        ],
        [
         "15",
         "31590",
         "11220"
        ],
        [
         "952",
         "42143",
         "11552"
        ],
        [
         "691",
         "12401",
         "11681"
        ],
        [
         "65",
         "38227",
         "11681"
        ],
        [
         "729",
         "22344",
         "11681"
        ],
        [
         "847",
         "94799",
         "11681"
        ],
        [
         "432",
         "32258",
         "11681"
        ],
        [
         "892",
         "16870",
         "11681"
        ],
        [
         "907",
         "47680",
         "11681"
        ],
        [
         "465",
         "62042",
         "11681"
        ],
        [
         "23",
         "72956",
         "11681"
        ],
        [
         "575",
         "75078",
         "11681"
        ],
        [
         "196",
         "16113",
         "11681"
        ],
        [
         "199",
         "85545",
         "11681"
        ],
        [
         "783",
         "16807",
         "11681"
        ],
        [
         "336",
         "65653",
         "11681"
        ],
        [
         "90",
         "67468",
         "11770"
        ],
        [
         "558",
         "17223",
         "11832"
        ],
        [
         "19",
         "60604",
         "12184"
        ],
        [
         "820",
         "48288",
         "12534"
        ],
        [
         "340",
         "92629",
         "12987"
        ],
        [
         "95",
         "41418",
         "13027"
        ],
        [
         "22",
         "47903",
         "13396"
        ],
        [
         "426",
         "61839",
         "13468"
        ]
       ],
       "shape": {
        "columns": 2,
        "rows": 1000
       }
      },
      "text/html": [
       "<div>\n",
       "<style scoped>\n",
       "    .dataframe tbody tr th:only-of-type {\n",
       "        vertical-align: middle;\n",
       "    }\n",
       "\n",
       "    .dataframe tbody tr th {\n",
       "        vertical-align: top;\n",
       "    }\n",
       "\n",
       "    .dataframe thead th {\n",
       "        text-align: right;\n",
       "    }\n",
       "</style>\n",
       "<table border=\"1\" class=\"dataframe\">\n",
       "  <thead>\n",
       "    <tr style=\"text-align: right;\">\n",
       "      <th></th>\n",
       "      <th>list1</th>\n",
       "      <th>list2</th>\n",
       "    </tr>\n",
       "  </thead>\n",
       "  <tbody>\n",
       "    <tr>\n",
       "      <th>599</th>\n",
       "      <td>13743</td>\n",
       "      <td>10104</td>\n",
       "    </tr>\n",
       "    <tr>\n",
       "      <th>679</th>\n",
       "      <td>67936</td>\n",
       "      <td>10228</td>\n",
       "    </tr>\n",
       "    <tr>\n",
       "      <th>686</th>\n",
       "      <td>71897</td>\n",
       "      <td>10363</td>\n",
       "    </tr>\n",
       "    <tr>\n",
       "      <th>828</th>\n",
       "      <td>14724</td>\n",
       "      <td>10521</td>\n",
       "    </tr>\n",
       "    <tr>\n",
       "      <th>509</th>\n",
       "      <td>97698</td>\n",
       "      <td>10803</td>\n",
       "    </tr>\n",
       "    <tr>\n",
       "      <th>...</th>\n",
       "      <td>...</td>\n",
       "      <td>...</td>\n",
       "    </tr>\n",
       "    <tr>\n",
       "      <th>801</th>\n",
       "      <td>19112</td>\n",
       "      <td>99099</td>\n",
       "    </tr>\n",
       "    <tr>\n",
       "      <th>649</th>\n",
       "      <td>81194</td>\n",
       "      <td>99347</td>\n",
       "    </tr>\n",
       "    <tr>\n",
       "      <th>146</th>\n",
       "      <td>80739</td>\n",
       "      <td>99593</td>\n",
       "    </tr>\n",
       "    <tr>\n",
       "      <th>357</th>\n",
       "      <td>64295</td>\n",
       "      <td>99755</td>\n",
       "    </tr>\n",
       "    <tr>\n",
       "      <th>385</th>\n",
       "      <td>81946</td>\n",
       "      <td>99814</td>\n",
       "    </tr>\n",
       "  </tbody>\n",
       "</table>\n",
       "<p>1000 rows × 2 columns</p>\n",
       "</div>"
      ],
      "text/plain": [
       "     list1  list2\n",
       "599  13743  10104\n",
       "679  67936  10228\n",
       "686  71897  10363\n",
       "828  14724  10521\n",
       "509  97698  10803\n",
       "..     ...    ...\n",
       "801  19112  99099\n",
       "649  81194  99347\n",
       "146  80739  99593\n",
       "357  64295  99755\n",
       "385  81946  99814\n",
       "\n",
       "[1000 rows x 2 columns]"
      ]
     },
     "execution_count": 45,
     "metadata": {},
     "output_type": "execute_result"
    }
   ],
   "source": [
    "df.sort_values('list2', ascending=True)\n",
    "# Here we can see that sorting the lists individually does not help us\n",
    "# We need to sort them together, keeping the pairs intact\n",
    "# But why?"
   ]
  },
  {
   "cell_type": "code",
   "execution_count": 49,
   "id": "53c2e706",
   "metadata": {},
   "outputs": [
    {
     "name": "stdout",
     "output_type": "stream",
     "text": [
      "   list1\n",
      "0  10282\n",
      "1  10365\n",
      "2  10618\n",
      "3  10696\n",
      "4  10887\n",
      "   list2\n",
      "0  10104\n",
      "1  10228\n",
      "2  10363\n",
      "3  10521\n",
      "4  10803\n"
     ]
    }
   ],
   "source": [
    "list1 = df[['list1']].copy()\n",
    "list1 = list1.sort_values(by='list1', ascending=True).reset_index(drop=True)\n",
    "#list1 = list1.sort_values('list1',ascending=True)\n",
    "print(list1.head())\n",
    "\n",
    "list2 = df[['list2']].copy()\n",
    "list2 = list2.sort_values(by='list2', ascending=True).reset_index(drop=True)\n",
    "print(list2.head())"
   ]
  },
  {
   "cell_type": "code",
   "execution_count": 50,
   "id": "936cc20f",
   "metadata": {},
   "outputs": [
    {
     "name": "stdout",
     "output_type": "stream",
     "text": [
      "   list1  list2\n",
      "0  10282  10104\n",
      "1  10365  10228\n",
      "2  10618  10363\n",
      "3  10696  10521\n",
      "4  10887  10803\n"
     ]
    }
   ],
   "source": [
    "df['list1'] = list1['list1']\n",
    "df['list2'] = list2['list2']\n",
    "print(df.head())"
   ]
  },
  {
   "cell_type": "code",
   "execution_count": 54,
   "id": "af6f9068",
   "metadata": {},
   "outputs": [
    {
     "name": "stdout",
     "output_type": "stream",
     "text": [
      "   list1  list2  difference\n",
      "0  10282  10104         178\n",
      "1  10365  10228         137\n",
      "2  10618  10363         255\n",
      "3  10696  10521         175\n",
      "4  10887  10803          84\n"
     ]
    }
   ],
   "source": [
    "df['difference'] = (df['list2'] - df['list1']).abs()\n",
    "print(df.head())"
   ]
  },
  {
   "cell_type": "code",
   "execution_count": 55,
   "id": "48e5bb3b",
   "metadata": {},
   "outputs": [
    {
     "name": "stdout",
     "output_type": "stream",
     "text": [
      "Sum of absolute differences: 2344935\n"
     ]
    }
   ],
   "source": [
    "sum = df['difference'].sum()\n",
    "print(f'Sum of absolute differences: {sum}')"
   ]
  }
 ],
 "metadata": {
  "kernelspec": {
   "display_name": "Python 3",
   "language": "python",
   "name": "python3"
  },
  "language_info": {
   "codemirror_mode": {
    "name": "ipython",
    "version": 3
   },
   "file_extension": ".py",
   "mimetype": "text/x-python",
   "name": "python",
   "nbconvert_exporter": "python",
   "pygments_lexer": "ipython3",
   "version": "3.11.4"
  }
 },
 "nbformat": 4,
 "nbformat_minor": 5
}
