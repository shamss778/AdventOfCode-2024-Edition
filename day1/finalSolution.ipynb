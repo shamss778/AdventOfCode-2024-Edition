{
 "cells": [
  {
   "cell_type": "code",
   "execution_count": 5,
   "id": "76964eb5",
   "metadata": {},
   "outputs": [
    {
     "name": "stderr",
     "output_type": "stream",
     "text": [
      "C:\\Users\\asus\\AppData\\Local\\Temp\\ipykernel_23996\\1561810447.py:4: ParserWarning: Falling back to the 'python' engine because the 'c' engine does not support regex separators (separators > 1 char and different from '\\s+' are interpreted as regex); you can avoid this warning by specifying engine='python'.\n",
      "  df = pd.read_csv(path, header=None, sep='   ')\n"
     ]
    }
   ],
   "source": [
    "import pandas as pd\n",
    "\n",
    "path = 'input.txt'\n",
    "df = pd.read_csv(path, header=None, sep='   ')"
   ]
  },
  {
   "cell_type": "code",
   "execution_count": 6,
   "id": "64397810",
   "metadata": {},
   "outputs": [
    {
     "name": "stdout",
     "output_type": "stream",
     "text": [
      "       0\n",
      "0  10282\n",
      "1  10365\n",
      "2  10618\n",
      "3  10696\n",
      "4  10887\n",
      "       1\n",
      "0  10104\n",
      "1  10228\n",
      "2  10363\n",
      "3  10521\n",
      "4  10803\n"
     ]
    }
   ],
   "source": [
    "list1 = df.drop(columns=[1])\n",
    "list1 = list1.sort_values(by=0, ascending=True).reset_index(drop=True)\n",
    "\n",
    "list2 = df.drop(columns=[0])\n",
    "list2 = list2.sort_values(by=1, ascending=True).reset_index(drop=True)\n",
    "\n",
    "print(list1.head())\n",
    "print(list2.head())"
   ]
  },
  {
   "cell_type": "code",
   "execution_count": 7,
   "id": "a96ff57d",
   "metadata": {},
   "outputs": [
    {
     "name": "stdout",
     "output_type": "stream",
     "text": [
      "Sum of absolute differences: 2344935\n"
     ]
    }
   ],
   "source": [
    "df['difference'] = abs(list2[1] - list1[0])\n",
    "sum = df['difference'].sum()\n",
    "print(f'Sum of absolute differences: {sum}')"
   ]
  },
  {
   "cell_type": "code",
   "execution_count": null,
   "id": "2b2fd68d",
   "metadata": {},
   "outputs": [],
   "source": [
    "list1 = list1[0].tolist()\n",
    "list2 = list2[1].tolist()\n",
    "\n",
    "from collections import Counter\n",
    "dic_of_occ_list1 = Counter(list1)\n",
    "dic_of_occ_list2 = Counter(list2)"
   ]
  },
  {
   "cell_type": "code",
   "execution_count": 12,
   "id": "170c65f7",
   "metadata": {},
   "outputs": [
    {
     "name": "stdout",
     "output_type": "stream",
     "text": [
      "27647262\n"
     ]
    }
   ],
   "source": [
    "similarity_score = 0\n",
    "\n",
    "for key_list1,value_list1 in dic_of_occ_list1.items():\n",
    "    for key_list2, value_list2 in dic_of_occ_list2.items():\n",
    "        if key_list1 == key_list2:\n",
    "            # For debugging purposes\n",
    "            # print(f'Found a match: {key_list1} with occurrences {value_list1} and {value_list2}')\n",
    "            # print(f'Calculating contribution: {key_list1} * {value_list1} * {key_list2} = {key_list1 * value_list1 * key_list2}')\n",
    "            similarity_score = key_list1 * value_list1 * value_list2 + similarity_score\n",
    "            key_list2\n",
    "\n",
    "print(similarity_score)"
   ]
  }
 ],
 "metadata": {
  "kernelspec": {
   "display_name": "Python 3",
   "language": "python",
   "name": "python3"
  },
  "language_info": {
   "codemirror_mode": {
    "name": "ipython",
    "version": 3
   },
   "file_extension": ".py",
   "mimetype": "text/x-python",
   "name": "python",
   "nbconvert_exporter": "python",
   "pygments_lexer": "ipython3",
   "version": "3.11.4"
  }
 },
 "nbformat": 4,
 "nbformat_minor": 5
}
