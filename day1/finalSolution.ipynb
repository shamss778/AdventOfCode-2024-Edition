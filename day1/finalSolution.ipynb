{
 "cells": [
  {
   "cell_type": "code",
   "execution_count": 3,
   "id": "64397810",
   "metadata": {},
   "outputs": [
    {
     "name": "stdout",
     "output_type": "stream",
     "text": [
      "       0\n",
      "0  10282\n",
      "1  10365\n",
      "2  10618\n",
      "3  10696\n",
      "4  10887\n",
      "       1\n",
      "0  10104\n",
      "1  10228\n",
      "2  10363\n",
      "3  10521\n",
      "4  10803\n"
     ]
    },
    {
     "name": "stderr",
     "output_type": "stream",
     "text": [
      "C:\\Users\\asus\\AppData\\Local\\Temp\\ipykernel_26228\\1682571959.py:4: ParserWarning: Falling back to the 'python' engine because the 'c' engine does not support regex separators (separators > 1 char and different from '\\s+' are interpreted as regex); you can avoid this warning by specifying engine='python'.\n",
      "  pd = pd.read_csv(path, header=None, sep='   ')\n"
     ]
    }
   ],
   "source": [
    "import pandas as pd\n",
    "\n",
    "path = 'input.txt'\n",
    "pd = pd.read_csv(path, header=None, sep='   ')\n",
    "\n",
    "list1 = pd.drop(columns=[1])\n",
    "list1 = list1.sort_values(by=0, ascending=True).reset_index(drop=True)\n",
    "\n",
    "list2 = pd.drop(columns=[0])\n",
    "list2 = list2.sort_values(by=1, ascending=True).reset_index(drop=True)\n",
    "\n",
    "print(list1.head())\n",
    "print(list2.head())"
   ]
  },
  {
   "cell_type": "code",
   "execution_count": 10,
   "id": "a96ff57d",
   "metadata": {},
   "outputs": [
    {
     "name": "stdout",
     "output_type": "stream",
     "text": [
      "Sum of absolute differences: 2344935\n"
     ]
    }
   ],
   "source": [
    "df = abs(list2[1] - list1[0])\n",
    "sum = df.sum()\n",
    "print(f'Sum of absolute differences: {sum}')"
   ]
  }
 ],
 "metadata": {
  "kernelspec": {
   "display_name": "Python 3",
   "language": "python",
   "name": "python3"
  },
  "language_info": {
   "codemirror_mode": {
    "name": "ipython",
    "version": 3
   },
   "file_extension": ".py",
   "mimetype": "text/x-python",
   "name": "python",
   "nbconvert_exporter": "python",
   "pygments_lexer": "ipython3",
   "version": "3.11.4"
  }
 },
 "nbformat": 4,
 "nbformat_minor": 5
}
